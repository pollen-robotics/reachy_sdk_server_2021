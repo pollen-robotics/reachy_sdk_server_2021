{
 "cells": [
  {
   "cell_type": "markdown",
   "id": "verbal-partner",
   "metadata": {},
   "source": [
    "# Example of API use to record and replay movements"
   ]
  },
  {
   "cell_type": "markdown",
   "id": "sexual-biotechnology",
   "metadata": {},
   "source": [
    "**Recording**\n",
    "\n",
    "Record present and goal position of all joints (both arms and head)\n",
    "\n",
    "**Replay**\n",
    "\n",
    "Replay present or goal positions of all joints (both arms and head)"
   ]
  },
  {
   "cell_type": "markdown",
   "id": "emotional-station",
   "metadata": {},
   "source": [
    "## Import utils"
   ]
  },
  {
   "cell_type": "code",
   "execution_count": null,
   "id": "collaborative-anderson",
   "metadata": {},
   "outputs": [],
   "source": [
    "import grpc\n",
    "import numpy as np\n",
    "import time\n",
    "\n",
    "from reachy_sdk_api import joint_pb2, joint_pb2_grpc\n",
    "from joint_pb2 import JointsCommand, JointCommand, JointField, JointId, JointsStateRequest\n",
    "from google.protobuf.wrappers_pb2 import BoolValue, FloatValue\n",
    "\n",
    "# Create channel to connect to server\n",
    "channel = grpc.insecure_channel(f'localhost:50055')"
   ]
  },
  {
   "cell_type": "code",
   "execution_count": null,
   "id": "abstract-clinic",
   "metadata": {},
   "outputs": [],
   "source": [
    "allbody = [\n",
    "        JointId(name='l_shoulder_pitch'),\n",
    "        JointId(name='l_shoulder_roll'),\n",
    "        JointId(name='l_arm_yaw'),\n",
    "        JointId(name='l_elbow_pitch'),\n",
    "        JointId(name='l_forearm_yaw'),\n",
    "        JointId(name='l_wrist_pitch'),\n",
    "        JointId(name='l_wrist_roll'),\n",
    "        JointId(name='l_gripper'),\n",
    "        JointId(name='r_shoulder_pitch'),\n",
    "        JointId(name='r_shoulder_roll'),\n",
    "        JointId(name='r_arm_yaw'),\n",
    "        JointId(name='r_elbow_pitch'),\n",
    "        JointId(name='r_forearm_yaw'),\n",
    "        JointId(name='r_wrist_pitch'),\n",
    "        JointId(name='r_wrist_roll'),\n",
    "        JointId(name='r_gripper'),\n",
    "        JointId(name='neck_disk_top'),\n",
    "        JointId(name='neck_disk_middle'),\n",
    "        JointId(name='neck_disk_bottom'),\n",
    "    ]"
   ]
  },
  {
   "cell_type": "code",
   "execution_count": null,
   "id": "stuffed-partner",
   "metadata": {},
   "outputs": [],
   "source": []
  },
  {
   "cell_type": "markdown",
   "id": "downtown-white",
   "metadata": {},
   "source": [
    "## Record movements"
   ]
  },
  {
   "cell_type": "markdown",
   "id": "careful-prefix",
   "metadata": {},
   "source": [
    "#### Create stub to access requested service"
   ]
  },
  {
   "cell_type": "code",
   "execution_count": null,
   "id": "executive-headline",
   "metadata": {},
   "outputs": [],
   "source": [
    "state_stub = joint_pb2_grpc.JointServiceStub(channel)"
   ]
  },
  {
   "cell_type": "markdown",
   "id": "simplified-university",
   "metadata": {},
   "source": [
    "#### Declare empty arrays to save goal and present positions, plus times"
   ]
  },
  {
   "cell_type": "code",
   "execution_count": null,
   "id": "signal-bolivia",
   "metadata": {},
   "outputs": [],
   "source": [
    "goal_pos = []\n",
    "present_pos = []\n",
    "time_array = []"
   ]
  },
  {
   "cell_type": "code",
   "execution_count": null,
   "id": "given-romantic",
   "metadata": {},
   "outputs": [],
   "source": [
    "alive = True\n",
    "\n",
    "def get_pos():\n",
    "    \n",
    "    i=0\n",
    "    duration = 0\n",
    "    pres_pos = JointsStateRequest(\n",
    "        ids=allbody,\n",
    "        requested_fields=[JointField.GOAL_POSITION, JointField.PRESENT_POSITION]\n",
    "    )\n",
    "\n",
    "    while(duration < 10 and alive):\n",
    "        tic = time.time()\n",
    "        single_present_pos = []\n",
    "        single_goal_pos = []\n",
    "\n",
    "        state = state_stub.GetJointsState(pres_pos)\n",
    "\n",
    "        for motor in state.states:\n",
    "            x = motor.goal_position.value\n",
    "            single_goal_pos.append(x)\n",
    "            y = motor.present_position.value\n",
    "            single_present_pos.append(y)\n",
    "\n",
    "        goal_pos.append(np.array(single_goal_pos))\n",
    "        present_pos.append(np.array(single_present_pos))\n",
    "        time_array.append(time.time())\n",
    "\n",
    "        time.sleep(0.01)\n",
    "        duration += time.time() - tic\n",
    "    print(\"stop\")\n",
    "        \n",
    "        \n",
    "from threading import Thread\n",
    "\n",
    "t = Thread(target=get_pos)\n",
    "time.sleep(5)\n",
    "print(\"start\")\n",
    "t.start()"
   ]
  },
  {
   "cell_type": "code",
   "execution_count": null,
   "id": "rough-explorer",
   "metadata": {},
   "outputs": [],
   "source": [
    "alive = False\n",
    "t.join()"
   ]
  },
  {
   "cell_type": "markdown",
   "id": "logical-finance",
   "metadata": {},
   "source": [
    "#### Save recordings"
   ]
  },
  {
   "cell_type": "code",
   "execution_count": null,
   "id": "beginning-irish",
   "metadata": {},
   "outputs": [],
   "source": [
    "np.save('present_pos.npy', np.array(present_pos))"
   ]
  },
  {
   "cell_type": "code",
   "execution_count": null,
   "id": "julian-calgary",
   "metadata": {},
   "outputs": [],
   "source": [
    "np.save('goal_pos.npy', np.array(goal_pos))"
   ]
  },
  {
   "cell_type": "code",
   "execution_count": null,
   "id": "american-female",
   "metadata": {},
   "outputs": [],
   "source": [
    "np.save('time_array.npy', np.array(time_array))"
   ]
  },
  {
   "cell_type": "code",
   "execution_count": null,
   "id": "legitimate-ebony",
   "metadata": {},
   "outputs": [],
   "source": []
  },
  {
   "cell_type": "markdown",
   "id": "funny-bacon",
   "metadata": {},
   "source": [
    "## Replay movements"
   ]
  },
  {
   "cell_type": "markdown",
   "id": "provincial-vocabulary",
   "metadata": {},
   "source": [
    "#### Create stub to access requested service"
   ]
  },
  {
   "cell_type": "code",
   "execution_count": null,
   "id": "faced-sussex",
   "metadata": {},
   "outputs": [],
   "source": [
    "cmd_stub = joint_pb2_grpc.JointServiceStub(channel)"
   ]
  },
  {
   "cell_type": "markdown",
   "id": "civic-shoot",
   "metadata": {},
   "source": [
    "#### Load recordings"
   ]
  },
  {
   "cell_type": "code",
   "execution_count": null,
   "id": "burning-seminar",
   "metadata": {},
   "outputs": [],
   "source": [
    "present_pos = np.load('present_pos.npy')\n",
    "goal_pos = np.load('goal_pos.npy')"
   ]
  },
  {
   "cell_type": "code",
   "execution_count": null,
   "id": "frequent-comedy",
   "metadata": {},
   "outputs": [],
   "source": [
    "all_ids = np.array([allbody for i in range(len(goal_pos))])"
   ]
  },
  {
   "cell_type": "markdown",
   "id": "green-technique",
   "metadata": {},
   "source": [
    "#### Set motors stiff"
   ]
  },
  {
   "cell_type": "code",
   "execution_count": null,
   "id": "valued-prediction",
   "metadata": {},
   "outputs": [],
   "source": [
    "compliancy = False\n",
    "\n",
    "request = JointsCommand(\n",
    "            commands=[\n",
    "                JointCommand(id=name, compliant=BoolValue(value=compliancy))\n",
    "                for name in allbody\n",
    "            ]\n",
    "        )\n",
    "cmd_stub.SendJointsCommands(request)"
   ]
  },
  {
   "cell_type": "markdown",
   "id": "governing-orleans",
   "metadata": {},
   "source": [
    "#### Replay goal positions"
   ]
  },
  {
   "cell_type": "code",
   "execution_count": null,
   "id": "oriental-following",
   "metadata": {},
   "outputs": [],
   "source": [
    "### GOAL_POSITION\n",
    "\n",
    "send_alive = True\n",
    "\n",
    "def send_pos():\n",
    "    i = 0\n",
    "    tic = time.time()\n",
    "    while ((i < len(goal_pos)) and (send_alive)):\n",
    "        toc = time.time()\n",
    "        command = JointsCommand(\n",
    "        commands=[\n",
    "                JointCommand(id=name, goal_position=FloatValue(value=pos))\n",
    "                for name, pos in zip(all_ids[i], goal_pos[i])\n",
    "            ]\n",
    "        )\n",
    "\n",
    "        cmd_stub.SendJointsCommands(command)\n",
    "        i += 1\n",
    "        time.sleep(0.01)\n",
    "\n",
    "        \n",
    "from threading import Thread\n",
    "\n",
    "t2 = Thread(target=send_pos)\n",
    "t2.start()"
   ]
  },
  {
   "cell_type": "markdown",
   "id": "automatic-investing",
   "metadata": {},
   "source": [
    "#### Replay present positions"
   ]
  },
  {
   "cell_type": "code",
   "execution_count": null,
   "id": "cathedral-toolbox",
   "metadata": {},
   "outputs": [],
   "source": [
    "### PRESENT_POSITION\n",
    "\n",
    "send_alive = True\n",
    "\n",
    "def send_pos():\n",
    "    i = 0\n",
    "    tic = time.time()\n",
    "    while ((i < len(goal_pos)) and (send_alive)):\n",
    "        toc = time.time()\n",
    "        command = JointsCommand(\n",
    "        commands=[\n",
    "                JointCommand(id=name, goal_position=FloatValue(value=pos))\n",
    "                for name, pos in zip(all_ids[i], present_pos[i])\n",
    "            ]\n",
    "        )\n",
    "\n",
    "        cmd_stub.SendJointsCommands(command)\n",
    "        i += 1\n",
    "        time.sleep(0.01)\n",
    "\n",
    "        \n",
    "from threading import Thread\n",
    "\n",
    "t2 = Thread(target=send_pos)\n",
    "t2.start()"
   ]
  },
  {
   "cell_type": "code",
   "execution_count": null,
   "id": "surface-cincinnati",
   "metadata": {},
   "outputs": [],
   "source": [
    "send_alive = False\n",
    "t2.join()"
   ]
  },
  {
   "cell_type": "markdown",
   "id": "certified-warner",
   "metadata": {},
   "source": [
    "#### Set motors compliant"
   ]
  },
  {
   "cell_type": "code",
   "execution_count": null,
   "id": "engaging-astrology",
   "metadata": {},
   "outputs": [],
   "source": [
    "compliancy = True\n",
    "\n",
    "request = JointsCommand(\n",
    "    commands=[\n",
    "        JointCommand(id=name, compliant=BoolValue(value=compliancy))\n",
    "        for name in allbody\n",
    "    ]\n",
    ")\n",
    "\n",
    "cmd_stub.SendJointsCommands(request)"
   ]
  },
  {
   "cell_type": "code",
   "execution_count": null,
   "id": "legal-organ",
   "metadata": {},
   "outputs": [],
   "source": []
  }
 ],
 "metadata": {
  "kernelspec": {
   "display_name": "Python 3",
   "language": "python",
   "name": "python3"
  },
  "language_info": {
   "codemirror_mode": {
    "name": "ipython",
    "version": 3
   },
   "file_extension": ".py",
   "mimetype": "text/x-python",
   "name": "python",
   "nbconvert_exporter": "python",
   "pygments_lexer": "ipython3",
   "version": "3.8.5"
  }
 },
 "nbformat": 4,
 "nbformat_minor": 5
}
